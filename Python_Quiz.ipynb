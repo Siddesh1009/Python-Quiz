{
  "nbformat": 4,
  "nbformat_minor": 0,
  "metadata": {
    "colab": {
      "provenance": [],
      "authorship_tag": "ABX9TyPdUJCyZ8jDa/jKsRjmi4Qf",
      "include_colab_link": true
    },
    "kernelspec": {
      "name": "python3",
      "display_name": "Python 3"
    },
    "language_info": {
      "name": "python"
    }
  },
  "cells": [
    {
      "cell_type": "markdown",
      "metadata": {
        "id": "view-in-github",
        "colab_type": "text"
      },
      "source": [
        "<a href=\"https://colab.research.google.com/github/Siddesh1009/Python-Quiz/blob/main/Python_Quiz.ipynb\" target=\"_parent\"><img src=\"https://colab.research.google.com/assets/colab-badge.svg\" alt=\"Open In Colab\"/></a>"
      ]
    },
    {
      "cell_type": "code",
      "execution_count": 4,
      "metadata": {
        "colab": {
          "base_uri": "https://localhost:8080/"
        },
        "id": "MCUW9Gl31Zkl",
        "outputId": "202932ae-3f6f-414f-cc12-b151b81fbe51"
      },
      "outputs": [
        {
          "output_type": "stream",
          "name": "stdout",
          "text": [
            "Welcome to AskPython Quiz\n",
            "Are you ready to play the Quiz ? (yes/no) :yes\n",
            "Question 1: What is your Favourite programming language?java\n",
            "Wrong Answer :(\n",
            "Question 2: Do you follow any author on AskPython? yes\n",
            "correct\n",
            "Question 3: What is the name of your favourite website for learning Python?askpython\n",
            "correct\n",
            "Thankyou for Playing this small quiz game, you attempted 2 questions correctly!\n",
            "Marks obtained: 66.66666666666666\n",
            "BYE!\n"
          ]
        }
      ],
      "source": [
        "print('Welcome to AskPython Quiz')\n",
        "answer=input('Are you ready to play the Quiz ? (yes/no) :')\n",
        "score=0\n",
        "total_questions=3\n",
        "\n",
        "if answer.lower()=='yes':\n",
        "    answer=input('Question 1: What is your Favourite programming language?')\n",
        "    if answer.lower()=='python':\n",
        "        score += 1\n",
        "        print('correct')\n",
        "    else:\n",
        "        print('Wrong Answer :(')\n",
        "\n",
        "\n",
        "    answer=input('Question 2: Do you follow any author on AskPython? ')\n",
        "    if answer.lower()=='yes':\n",
        "        score += 1\n",
        "        print('correct')\n",
        "    else:\n",
        "        print('Wrong Answer :(')\n",
        "\n",
        "    answer=input('Question 3: What is the name of your favourite website for learning Python?')\n",
        "    if answer.lower()=='askpython':\n",
        "        score += 1\n",
        "        print('correct')\n",
        "    else:\n",
        "        print('Wrong Answer :(')\n",
        "\n",
        "print('Thankyou for Playing this small quiz game, you attempted',score,\"questions correctly!\")\n",
        "mark=(score/total_questions)*100\n",
        "print('Marks obtained:',mark)\n",
        "print('BYE!')"
      ]
    }
  ]
}